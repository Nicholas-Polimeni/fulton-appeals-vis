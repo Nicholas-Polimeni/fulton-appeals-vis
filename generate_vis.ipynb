{
 "cells": [
  {
   "cell_type": "markdown",
   "metadata": {},
   "source": [
    "# Generate Vis for Fulton County Appeal Filings"
   ]
  },
  {
   "cell_type": "code",
   "execution_count": 1,
   "metadata": {},
   "outputs": [],
   "source": [
    "%load_ext autoreload\n",
    "%autoreload 2\n",
    "\n",
    "import geopandas as gpd\n",
    "import plotly.express as px\n",
    "import pandas as pd\n",
    "\n",
    "import plotly.io as pio\n",
    "pio.renderers.default = \"plotly_mimetype+notebook_connected\"\n",
    "\n",
    "import map_utils"
   ]
  },
  {
   "cell_type": "code",
   "execution_count": 2,
   "metadata": {},
   "outputs": [],
   "source": [
    "SHOW_MAP = False\n",
    "SAVE_MAP = True\n",
    "by_city = gpd.read_file(\"output/by_city.csv\")\n",
    "by_year = gpd.read_file(\"output/by_year.csv\")\n",
    "by_parcel = gpd.read_file(\"output/by_parcel.csv\")\n",
    "fulton_cities = gpd.read_file(\"data/fulton_cities.geojson\")\n",
    "geq_n_appeals = pd.read_csv(\"output/geq_n_appeals.csv\")\n",
    "# TODO chained indexing?\n",
    "fulton_cities.loc[fulton_cities['Name'] == 'Atlanta', 'geometry'] = fulton_cities[fulton_cities['Name'].isin(['Atlanta', 'Fulton County'])].unary_union\n",
    "fulton_cities = fulton_cities[fulton_cities['Name'] != 'Fulton County']\n",
    "\n",
    "by_city = by_city.drop(by_city.index[-1])\n",
    "by_year = by_year.drop(by_year.index[-1])\n",
    "by_parcel = by_parcel.drop(by_parcel.index[-1])"
   ]
  },
  {
   "cell_type": "code",
   "execution_count": 3,
   "metadata": {},
   "outputs": [],
   "source": [
    "def save_plot(fig, filename):\n",
    "    fig.write_html(filename + '.html', full_html=False)\n",
    "    # kaleido==0.1.0.post1\n",
    "    # fig.write_image(filename + '.png')\n",
    "    # saving png is not working"
   ]
  },
  {
   "cell_type": "code",
   "execution_count": 4,
   "metadata": {},
   "outputs": [],
   "source": [
    "df = by_city\n",
    "geo = fulton_cities\n",
    "loc = 'City'\n",
    "featureid = 'properties.Name'"
   ]
  },
  {
   "cell_type": "markdown",
   "metadata": {},
   "source": [
    "## Generate map showing absolute number of appeals for each city"
   ]
  },
  {
   "cell_type": "code",
   "execution_count": 5,
   "metadata": {},
   "outputs": [],
   "source": [
    "#| label: num_appeals\n",
    "log = 10\n",
    "color = \"count_appeals_city\"\n",
    "hover_data = {\"count_appeals_city\": (\":,\", \"Count\")}\n",
    "title = \"Number of Appeals Filed in Each City of Fulton County (2011-2022)\"\n",
    "\n",
    "num_appeals = map_utils.gen_choropleth_log(\n",
    "    log, df, geo, loc, featureid, color, hover_data, title, \",\"\n",
    ")\n",
    "if SHOW_MAP:\n",
    "    num_appeals.show()\n",
    "if SAVE_MAP:\n",
    "    save_plot(num_appeals, \"output/num_appeals\")"
   ]
  },
  {
   "cell_type": "markdown",
   "metadata": {},
   "source": [
    "## Generate map showing percent of parcels filing an appeal in each city"
   ]
  },
  {
   "cell_type": "code",
   "execution_count": 6,
   "metadata": {},
   "outputs": [],
   "source": [
    "#| label: pct_fulton_appeals\n",
    "log = 10\n",
    "color = \"pct_appeals_in_city\"\n",
    "hover_data = {\"pct_appeals_in_city\": (\":.2\", \"Percent\")}\n",
    "title = \"Appeals Filed in Each City as % of Appeals Filed in Fulton County (2011-2022)\"\n",
    "postfix = \"%\"\n",
    "# scale = 'ylorrd'\n",
    "pct_fulton_appeals = map_utils.gen_choropleth_log(\n",
    "    log, df, geo, loc, featureid, color, hover_data, title, postfix=postfix\n",
    ")\n",
    "if SHOW_MAP:\n",
    "    pct_fulton_appeals.show()\n",
    "if SAVE_MAP:\n",
    "    save_plot(num_appeals, \"output/pct_appeals_of_fulton\")"
   ]
  },
  {
   "cell_type": "markdown",
   "metadata": {},
   "source": [
    "## Generate map with normalized metric (pct_appeals_in_city / pct_parcels_in_city); values closer to 1 are better"
   ]
  },
  {
   "cell_type": "code",
   "execution_count": 7,
   "metadata": {},
   "outputs": [],
   "source": [
    "#| label: pct_appeals_over_per_parcels\n",
    "color = \"pct_appeals_over_pct_parcels\"\n",
    "hover_data = {\"pct_appeals_over_pct_parcels\": (\":.2\", \"Ratio\")}\n",
    "title = \"% Appeals / % Parcels Filed in Each City of Fulton County (2011-2022)\"\n",
    "colorbar_scale = dict(cmid=1)\n",
    "\n",
    "normalized_city = map_utils.gen_choropleth(\n",
    "    df,\n",
    "    geo,\n",
    "    loc,\n",
    "    featureid,\n",
    "    color,\n",
    "    hover_data,\n",
    "    title,\n",
    "    str_format=\",\",\n",
    "    scale=\"temps\",\n",
    "    colorbar_scale=colorbar_scale,\n",
    ")\n",
    "if SHOW_MAP:\n",
    "    normalized_city.show()\n",
    "if SAVE_MAP:\n",
    "    save_plot(num_appeals, \"output/normalized_appeals\")"
   ]
  },
  {
   "cell_type": "markdown",
   "metadata": {},
   "source": [
    "## Generate map showing number of parcels with more than 1 appeal each city (and as percent)"
   ]
  },
  {
   "cell_type": "code",
   "execution_count": 8,
   "metadata": {},
   "outputs": [],
   "source": [
    "color = 'percent_filing_geq_than_2_appeals'\n",
    "hover_data = {'percent_filing_geq_than_2_appeals': (\":.2\", \"Percent\")}\n",
    "title = \"Percent of Parcels Filing More than 1 Appeal (2011-2022)\"\n",
    "\n",
    "geq_1_city = map_utils.gen_choropleth(df, geo, loc, featureid, color, hover_data, title, ',')\n",
    "\n",
    "if SHOW_MAP:\n",
    "    geq_1_city.show()\n",
    "if SAVE_MAP:\n",
    "    save_plot(num_appeals, \"output/geq_1_appeals\")"
   ]
  },
  {
   "cell_type": "code",
   "execution_count": 9,
   "metadata": {},
   "outputs": [],
   "source": [
    "color = 'percent_filing_geq_than_6_appeals'\n",
    "hover_data = {'percent_filing_geq_than_6_appeals': (\":.2\", \"Percent\")}\n",
    "title = \"Percent of Parcels Filing More than 6 Appeals (2011-2022)\"\n",
    "\n",
    "geq_6_city = map_utils.gen_choropleth(df, geo, loc, featureid, color, hover_data, title, ',')\n",
    "\n",
    "if SHOW_MAP:\n",
    "    geq_6_city.show()\n",
    "if SAVE_MAP:\n",
    "    save_plot(num_appeals, \"output/geq_6_city\")"
   ]
  },
  {
   "cell_type": "code",
   "execution_count": 10,
   "metadata": {},
   "outputs": [],
   "source": [
    "color = 'percent_filing_geq_than_9_appeals'\n",
    "hover_data = {'percent_filing_geq_than_9_appeals': (\":.2\", \"Percent\")}\n",
    "title = \"Percent of Parcels Filing More than 9 Appeals (2011-2022)\"\n",
    "\n",
    "geq_9_city = map_utils.gen_choropleth(df, geo, loc, featureid, color, hover_data, title, ',')\n",
    "\n",
    "if SHOW_MAP:\n",
    "    geq_9_city.show()\n",
    "if SAVE_MAP:\n",
    "    save_plot(num_appeals, \"output/geq_9_city\")"
   ]
  },
  {
   "cell_type": "markdown",
   "metadata": {},
   "source": [
    "## Generate scatter map showing number of parcels with more than 1 appeal"
   ]
  },
  {
   "cell_type": "code",
   "execution_count": 11,
   "metadata": {},
   "outputs": [],
   "source": [
    "# Using map from FCS repo I made previously; will place in output folder"
   ]
  },
  {
   "cell_type": "markdown",
   "metadata": {},
   "source": [
    "## Generate map showing number of repeat appeals each city (slider for 1 to 11 appeals)"
   ]
  },
  {
   "cell_type": "code",
   "execution_count": 12,
   "metadata": {},
   "outputs": [],
   "source": [
    "#| label: animated_n_appeals\n",
    "f = px.choropleth(\n",
    "    geq_n_appeals,\n",
    "    geojson=geo,\n",
    "    locations=\"city\",\n",
    "    featureidkey=featureid,\n",
    "    color=\"appeals\",\n",
    "    animation_frame=\"geq_n_appeals\",\n",
    "    animation_group=\"city\",\n",
    "    color_continuous_scale=\"ylorrd\",\n",
    "    hover_name=\"city\",\n",
    "    hover_data={\"city\": False, \"geq_n_appeals\": False, \"appeals\": \":.2f\"},\n",
    "    labels={\"appeals\": \"Percent Filing Given Number of Appeals\"},\n",
    ")\n",
    "f.update_geos(fitbounds=\"locations\", visible=False)\n",
    "\n",
    "f.update_layout(\n",
    "    title=dict(\n",
    "        text=\"Percent of Parcels Filing at Least 1 Appeal (2011-2022)\",\n",
    "        font=dict(size=20),\n",
    "        automargin=True,\n",
    "        yref=\"paper\",\n",
    "    ),\n",
    "    coloraxis_colorbar=dict(\n",
    "        title=\"\",\n",
    "    ),\n",
    "    title_x=0.5,\n",
    "    margin={\"r\": 0, \"t\": 35, \"l\": 0, \"b\": 0},\n",
    "    width=1200,\n",
    "    height=630,\n",
    "    sliders=[{\"currentvalue\": {\"prefix\": \"Number of Appeals: \"}}],\n",
    ")\n",
    "\n",
    "for k in range(0, len(f.frames)):\n",
    "    f.frames[k][\"layout\"].update(\n",
    "        title_text=f\"Percent of Parcels Filing at Least {k+1} Appeal(s) (2011-2022)\"\n",
    "    )\n",
    "if SHOW_MAP:\n",
    "    f.show()\n",
    "if SAVE_MAP:\n",
    "    save_plot(num_appeals, \"output/animated_n_appeals\")"
   ]
  },
  {
   "cell_type": "markdown",
   "metadata": {},
   "source": [
    "## Generate map showing number of repeat appeals each parcel (like old map) or with slider"
   ]
  },
  {
   "cell_type": "code",
   "execution_count": 13,
   "metadata": {},
   "outputs": [
    {
     "data": {
      "text/plain": [
       "NotImplemented"
      ]
     },
     "execution_count": 13,
     "metadata": {},
     "output_type": "execute_result"
    }
   ],
   "source": [
    "NotImplemented"
   ]
  },
  {
   "cell_type": "markdown",
   "metadata": {},
   "source": [
    "## Generate map showing number of successful appeals each city"
   ]
  },
  {
   "cell_type": "code",
   "execution_count": 14,
   "metadata": {},
   "outputs": [],
   "source": [
    "#| label: success_city\n",
    "log = 20\n",
    "color = 'success_count_city'\n",
    "hover_data = {'success_count_city': (\":,\", \"Successful Appeals\")}\n",
    "title = \"Number of Successful Appeals in Each City of Fulton County (2011-2022)\"\n",
    "\n",
    "success_city = map_utils.gen_choropleth_log(log, df, geo, loc, featureid, color, hover_data, title, ',')\n",
    "if SHOW_MAP:\n",
    "    success_city.show()\n",
    "if SAVE_MAP:\n",
    "    save_plot(num_appeals, \"output/num_successful_appeals\")"
   ]
  },
  {
   "cell_type": "markdown",
   "metadata": {},
   "source": [
    "## Generate map showing percent of successful appeals each city"
   ]
  },
  {
   "cell_type": "code",
   "execution_count": 15,
   "metadata": {},
   "outputs": [],
   "source": [
    "#| label: percent_success\n",
    "log = 2\n",
    "color = 'success_rate_city'\n",
    "hover_data = {'success_rate_city': (\":.1f\", \"Successful Appeals\")}\n",
    "title = \"Success Rate of Appeals in Each City of Fulton County (2011-2022)\"\n",
    "\n",
    "pct_success_city = map_utils.gen_choropleth_log(log, df, geo, loc, featureid, color, hover_data, title, ',')\n",
    "if SHOW_MAP:\n",
    "    pct_success_city.show()\n",
    "if SAVE_MAP:\n",
    "    save_plot(num_appeals, \"output/pct_successful_appeals\")"
   ]
  },
  {
   "cell_type": "markdown",
   "metadata": {},
   "source": [
    "## relationship between number of appeals and success (points where size represents number of appeals, color represents percent success)"
   ]
  },
  {
   "cell_type": "code",
   "execution_count": 16,
   "metadata": {},
   "outputs": [
    {
     "data": {
      "text/plain": [
       "NotImplemented"
      ]
     },
     "execution_count": 16,
     "metadata": {},
     "output_type": "execute_result"
    }
   ],
   "source": [
    "# TODO need to make a DF where geometry is the centroid of each county, plot that as overlay\n",
    "NotImplemented"
   ]
  },
  {
   "cell_type": "markdown",
   "metadata": {},
   "source": [
    "## Total amount appealed each city, revenue lost each city"
   ]
  },
  {
   "cell_type": "code",
   "execution_count": 17,
   "metadata": {},
   "outputs": [],
   "source": [
    "df['sum_appealed_city'] = df['sum_appealed_city'].astype(float) / 1000000000"
   ]
  },
  {
   "cell_type": "code",
   "execution_count": 18,
   "metadata": {},
   "outputs": [],
   "source": [
    "#| label: sum_appealed\n",
    "log = 10\n",
    "color = \"sum_appealed_city\"\n",
    "hover_data = {\n",
    "    \"sum_appealed_city\": (\":,.2f\", \"Total sum appealed\"),\n",
    "    \"lost_revenue_city\": (\":,.2f\", \"Reduction in tax revenue\"),\n",
    "}\n",
    "title = \"Total Sum Appealed in Each City of Fulton County (2011-2022, in Billion $)\"\n",
    "postfix = \"B\"\n",
    "\n",
    "sum_appealed = map_utils.gen_choropleth_log(\n",
    "    log, df, geo, loc, featureid, color, hover_data, title, postfix=postfix\n",
    ")\n",
    "if SHOW_MAP:\n",
    "    sum_appealed.show()\n",
    "if SAVE_MAP:\n",
    "    save_plot(num_appeals, \"output/sum_appealed\")"
   ]
  }
 ],
 "metadata": {
  "kernelspec": {
   "display_name": "fulton-vis",
   "language": "python",
   "name": "python3"
  },
  "language_info": {
   "codemirror_mode": {
    "name": "ipython",
    "version": 3
   },
   "file_extension": ".py",
   "mimetype": "text/x-python",
   "name": "python",
   "nbconvert_exporter": "python",
   "pygments_lexer": "ipython3",
   "version": "3.12.1"
  }
 },
 "nbformat": 4,
 "nbformat_minor": 2
}
